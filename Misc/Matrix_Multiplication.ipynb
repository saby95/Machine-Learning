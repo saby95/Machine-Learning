{
 "cells": [
  {
   "cell_type": "markdown",
   "metadata": {
    "application/vnd.databricks.v1+cell": {
     "inputWidgets": {},
     "nuid": "4c794ecf-7746-49d4-8225-ef08cc1e002c",
     "showTitle": false,
     "title": ""
    }
   },
   "source": [
    "# Matrix Multiplication using MapReduce"
   ]
  },
  {
   "cell_type": "markdown",
   "metadata": {
    "application/vnd.databricks.v1+cell": {
     "inputWidgets": {},
     "nuid": "6bdc9031-6955-4952-b510-36cdfbf26828",
     "showTitle": false,
     "title": ""
    }
   },
   "source": [
    "#### Importing SparkContext from pyspark and combinations from itertools"
   ]
  },
  {
   "cell_type": "code",
   "execution_count": 0,
   "metadata": {
    "application/vnd.databricks.v1+cell": {
     "inputWidgets": {},
     "nuid": "37c47665-7d84-4627-9265-c16285200f71",
     "showTitle": false,
     "title": ""
    }
   },
   "outputs": [],
   "source": [
    "from pyspark import SparkContext\n",
    "from itertools import combinations"
   ]
  },
  {
   "cell_type": "markdown",
   "metadata": {
    "application/vnd.databricks.v1+cell": {
     "inputWidgets": {},
     "nuid": "168c40ef-60b6-4710-892f-203be4fb5a3c",
     "showTitle": false,
     "title": ""
    }
   },
   "source": [
    "### Example 1 - Input file with two matrices of same dimensions\n",
    " #### Printing the Input file"
   ]
  },
  {
   "cell_type": "code",
   "execution_count": 0,
   "metadata": {
    "application/vnd.databricks.v1+cell": {
     "inputWidgets": {},
     "nuid": "9c236a24-5b10-4d80-a53b-0169eb3f0c7e",
     "showTitle": false,
     "title": ""
    }
   },
   "outputs": [
    {
     "data": {
      "text/plain": [
       "1 2\n",
       "3 4\n",
       "\n",
       "5 6\n",
       "7 8\n",
       "\n"
      ]
     },
     "metadata": {
      "application/vnd.databricks.v1+output": {
       "addedWidgets": {},
       "arguments": {},
       "data": "1 2\n3 4\n\n5 6\n7 8\n\n",
       "datasetInfos": [],
       "metadata": {},
       "removedWidgets": [],
       "type": "ansi"
      }
     },
     "output_type": "display_data"
    }
   ],
   "source": [
    "dbutils.fs.cp(\"/FileStore/tables/set2.txt\", \"file:///tmp/set2.txt\")\n",
    "with open(\"/tmp/set2.txt\", \"r\") as file:\n",
    "    print (file.read())"
   ]
  },
  {
   "cell_type": "markdown",
   "metadata": {
    "application/vnd.databricks.v1+cell": {
     "inputWidgets": {},
     "nuid": "432c617a-12e1-4dc9-9034-c0471f17ae52",
     "showTitle": false,
     "title": ""
    }
   },
   "source": [
    "### Define the functions to be used in the program\n",
    "\n",
    "The `AddLineNumbers` function recieves a list of strings and adds row indices."
   ]
  },
  {
   "cell_type": "code",
   "execution_count": 0,
   "metadata": {
    "application/vnd.databricks.v1+cell": {
     "inputWidgets": {},
     "nuid": "710424ed-7ba3-4f0d-848c-e1d239d8eb03",
     "showTitle": false,
     "title": ""
    }
   },
   "outputs": [],
   "source": [
    "def AddLineNumbers(lines):\n",
    "    result = []\n",
    "    for idx, item in enumerate(lines):\n",
    "        result.append((idx, item))\n",
    "    return result"
   ]
  },
  {
   "cell_type": "markdown",
   "metadata": {
    "application/vnd.databricks.v1+cell": {
     "inputWidgets": {},
     "nuid": "f0a4fc84-40e1-4d75-bc55-0468bc5127b2",
     "showTitle": false,
     "title": ""
    }
   },
   "source": [
    "The `crossMultiply` function does multiplication on alternate set variables taking [A, i, A<sub>ij</sub>] and [B, k, B<sub>jk</sub>] and produces ((i,k), A<sub>ij</sub>  * B<sub>jk</sub>) in a combination way."
   ]
  },
  {
   "cell_type": "code",
   "execution_count": 0,
   "metadata": {
    "application/vnd.databricks.v1+cell": {
     "inputWidgets": {},
     "nuid": "33e7d474-2075-4e44-ba84-612a9b7df30e",
     "showTitle": false,
     "title": ""
    }
   },
   "outputs": [],
   "source": [
    "def crossMultiply(items):\n",
    "    result = []\n",
    "    for A, B in list(combinations(items, 2)):\n",
    "        if (A[0] != B[0]):\n",
    "            result.append(((A[1],B[1]), A[2]*B[2]))\n",
    "    return result"
   ]
  },
  {
   "cell_type": "markdown",
   "metadata": {
    "application/vnd.databricks.v1+cell": {
     "inputWidgets": {},
     "nuid": "7756c10a-a460-4aa4-8d54-ebc491342f62",
     "showTitle": false,
     "title": ""
    }
   },
   "source": [
    "The `CheckFloatStrings` function checks if a string has non-float characters and returns `True` if it does and `False` if it does not."
   ]
  },
  {
   "cell_type": "code",
   "execution_count": 0,
   "metadata": {
    "application/vnd.databricks.v1+cell": {
     "inputWidgets": {},
     "nuid": "550bf4d6-1575-4b0d-8ff0-2be1b3fffd0a",
     "showTitle": false,
     "title": ""
    }
   },
   "outputs": [],
   "source": [
    "def CheckFloatStrings(lines):\n",
    "    for line in lines:\n",
    "        for item in line.split():\n",
    "            try:\n",
    "                float(item)\n",
    "            except ValueError:\n",
    "                return True\n",
    "    return False"
   ]
  },
  {
   "cell_type": "markdown",
   "metadata": {
    "application/vnd.databricks.v1+cell": {
     "inputWidgets": {},
     "nuid": "2863e648-3a0a-4e9b-baa3-2beaa3a99133",
     "showTitle": false,
     "title": ""
    }
   },
   "source": [
    "The `CheckMatrixDimensions` function checks if the no.of colums in the `A` matrix is the same as the no. of rows in the `B` matrix."
   ]
  },
  {
   "cell_type": "code",
   "execution_count": 0,
   "metadata": {
    "application/vnd.databricks.v1+cell": {
     "inputWidgets": {},
     "nuid": "03099abc-0d50-4e09-9f07-5be7d9acbbbd",
     "showTitle": false,
     "title": ""
    }
   },
   "outputs": [],
   "source": [
    "def CheckMatrixDimensions(rdd):\n",
    "    records = rdd.collect()\n",
    "    for itr in range(1,len(records)):\n",
    "        if len(records[itr][1]) != len(records[0][1]):\n",
    "            return True\n",
    "    return False"
   ]
  },
  {
   "cell_type": "markdown",
   "metadata": {
    "application/vnd.databricks.v1+cell": {
     "inputWidgets": {},
     "nuid": "df644adc-e44c-4f6c-beee-710e41519c42",
     "showTitle": false,
     "title": ""
    }
   },
   "source": [
    "The `MapperA` function provides the initial mapper for the `A` matrix, which recieves a list of strings, and produces a list of (j, (A, i, Aij)) values.</br>\n",
    "The `MapperB` function provides the same function for the `B` matrix, which produces the list of (j, (B, k, Bjk)) values"
   ]
  },
  {
   "cell_type": "code",
   "execution_count": 0,
   "metadata": {
    "application/vnd.databricks.v1+cell": {
     "inputWidgets": {},
     "nuid": "1fdec36c-4f92-486c-8f8f-27df87176eb9",
     "showTitle": false,
     "title": ""
    }
   },
   "outputs": [],
   "source": [
    "def MapperA(lines):\n",
    "    setA = sc.parallelize(AddLineNumbers(lines)).filter(lambda x: len(x[1]) > 0)\n",
    "    MappedResult = setA.map(lambda x: [(j,(0, x[0], float(val))) for j, val in enumerate(x[1].split())])\\\n",
    "                       .flatMap(lambda x: x)\n",
    "    return MappedResult"
   ]
  },
  {
   "cell_type": "code",
   "execution_count": 0,
   "metadata": {
    "application/vnd.databricks.v1+cell": {
     "inputWidgets": {},
     "nuid": "7c8d58d9-bae2-481c-add0-1608e71cb7a9",
     "showTitle": false,
     "title": ""
    }
   },
   "outputs": [],
   "source": [
    "def MapperB(lines):\n",
    "    setB = sc.parallelize(AddLineNumbers(lines)).filter(lambda x: len(x[1]) > 0)\n",
    "    MappedResult = setB.map(lambda x: [(x[0],(1, k, float(val))) for k, val in enumerate(x[1].split())])\\\n",
    "                       .flatMap(lambda x: x)\n",
    "    return MappedResult"
   ]
  },
  {
   "cell_type": "markdown",
   "metadata": {
    "application/vnd.databricks.v1+cell": {
     "inputWidgets": {},
     "nuid": "12da2641-9999-4465-98ea-5c728d4c923b",
     "showTitle": false,
     "title": ""
    }
   },
   "source": [
    "The `reducer1` function provides the reducer function for the first phase, where it takes all the grouped entries for a single key and applies the crossMultiplication on those values."
   ]
  },
  {
   "cell_type": "code",
   "execution_count": 0,
   "metadata": {
    "application/vnd.databricks.v1+cell": {
     "inputWidgets": {},
     "nuid": "376e8295-060f-4171-bdb2-e5dab4a5de5f",
     "showTitle": false,
     "title": ""
    }
   },
   "outputs": [],
   "source": [
    "def reducer1(rdd):\n",
    "    return rdd.map(lambda x: crossMultiply(x[1]))"
   ]
  },
  {
   "cell_type": "markdown",
   "metadata": {
    "application/vnd.databricks.v1+cell": {
     "inputWidgets": {},
     "nuid": "925d6491-9751-4fff-8b46-cc461c848052",
     "showTitle": false,
     "title": ""
    }
   },
   "source": [
    "The `reducer2` function provides the reduce function for the second phase, where grouping and aggregation occurs."
   ]
  },
  {
   "cell_type": "code",
   "execution_count": 0,
   "metadata": {
    "application/vnd.databricks.v1+cell": {
     "inputWidgets": {},
     "nuid": "e9c1de65-2072-480b-a627-3c67ead5c330",
     "showTitle": false,
     "title": ""
    }
   },
   "outputs": [],
   "source": [
    "def reducer2(rdd):\n",
    "    return rdd.reduceByKey(lambda x, y: x+y).sortByKey()"
   ]
  },
  {
   "cell_type": "markdown",
   "metadata": {
    "application/vnd.databricks.v1+cell": {
     "inputWidgets": {},
     "nuid": "50a945a7-b103-42eb-bed9-aed25c2d967a",
     "showTitle": false,
     "title": ""
    }
   },
   "source": [
    "### Running the Code\n",
    "Now that all the required functions are defined we shall run all the code"
   ]
  },
  {
   "cell_type": "code",
   "execution_count": 0,
   "metadata": {
    "application/vnd.databricks.v1+cell": {
     "inputWidgets": {},
     "nuid": "79086743-6130-4d20-8942-4988c3b0a7ce",
     "showTitle": false,
     "title": ""
    }
   },
   "outputs": [],
   "source": [
    "sc = SparkContext.getOrCreate()\n",
    "\n",
    "data = sc.textFile(\"/FileStore/tables/set2.txt\")\n",
    "lines = data.filter(lambda row: not row.startswith('#')).collect()\n",
    "\n",
    "partitionIndex = lines.index('')\n",
    "linesA = lines[:partitionIndex]\n",
    "linesB = lines[partitionIndex+1:]\n",
    "\n",
    "if CheckFloatStrings(linesA) or CheckFloatStrings(linesB):\n",
    "    print(\"File contains non-float characters\")\n",
    "else:\n",
    "    allMappedResults = MapperA(linesA) + MapperB(linesB)\n",
    "    reducerInput = allMappedResults.groupByKey().mapValues(lambda x: list(x))\n",
    "    if CheckMatrixDimensions(reducerInput):\n",
    "        print(\"Matrix Dimensions Does not match\")\n",
    "    else:\n",
    "        reducedResult = reducer1(reducerInput)\n",
    "        secondPhaseInput = reducedResult.flatMap(lambda x: x)\n",
    "        finalResult = reducer2(secondPhaseInput)"
   ]
  },
  {
   "cell_type": "markdown",
   "metadata": {
    "application/vnd.databricks.v1+cell": {
     "inputWidgets": {},
     "nuid": "84e98ce2-1d97-4eae-8226-1dceba45e3a4",
     "showTitle": false,
     "title": ""
    }
   },
   "source": [
    "### Explanation\n",
    "Initially, we read the file and filter all the comment lines. </br></br>\n",
    "Next we find the empty line in the file that seperates the matrices `A` and `B` and strore that in the variable in `pratitionIndex`. Using this `pratitionIndex`, we partition the file into two lists, `linesA` and `linesB`, one for each matrix. </br></br>\n",
    "Following that, we check if the matrices contatain any non-float strings and stop the program there, if it does. If both matrices contain only valid charecters, then we proceed and apply the initial mapper function on both the lists and aggregate the results in `allMappedResults` variable. At this phase, we have all the results for the initial phase."
   ]
  },
  {
   "cell_type": "code",
   "execution_count": 0,
   "metadata": {
    "application/vnd.databricks.v1+cell": {
     "inputWidgets": {},
     "nuid": "aec1abd7-f155-4b8d-84c3-8752fa00bb64",
     "showTitle": false,
     "title": ""
    }
   },
   "outputs": [
    {
     "data": {
      "text/plain": [
       "Out[139]: [(0, (0, 0, 1.0)),\n",
       " (1, (0, 0, 2.0)),\n",
       " (0, (0, 1, 3.0)),\n",
       " (1, (0, 1, 4.0)),\n",
       " (0, (1, 0, 5.0)),\n",
       " (0, (1, 1, 6.0)),\n",
       " (1, (1, 0, 7.0)),\n",
       " (1, (1, 1, 8.0))]"
      ]
     },
     "metadata": {
      "application/vnd.databricks.v1+output": {
       "addedWidgets": {},
       "arguments": {},
       "data": "Out[139]: [(0, (0, 0, 1.0)),\n (1, (0, 0, 2.0)),\n (0, (0, 1, 3.0)),\n (1, (0, 1, 4.0)),\n (0, (1, 0, 5.0)),\n (0, (1, 1, 6.0)),\n (1, (1, 0, 7.0)),\n (1, (1, 1, 8.0))]",
       "datasetInfos": [],
       "metadata": {},
       "removedWidgets": [],
       "type": "ansi"
      }
     },
     "output_type": "display_data"
    }
   ],
   "source": [
    "allMappedResults.collect()"
   ]
  },
  {
   "cell_type": "markdown",
   "metadata": {
    "application/vnd.databricks.v1+cell": {
     "inputWidgets": {},
     "nuid": "75f25f17-f58e-4990-b6ae-6f454521b413",
     "showTitle": false,
     "title": ""
    }
   },
   "source": [
    "Next, we group all entities for a single key in the variable `reducerInput` variable. Now here before we reduce, we check if the matrix dimensions match for matrix multiplication and display an error if it does not. In this example they match, so we proceed to call the reducer for the first phase and store the results in the `reducedResults` variable."
   ]
  },
  {
   "cell_type": "code",
   "execution_count": 0,
   "metadata": {
    "application/vnd.databricks.v1+cell": {
     "inputWidgets": {},
     "nuid": "68aa9823-a71a-496d-822e-cd67ee88272d",
     "showTitle": false,
     "title": ""
    }
   },
   "outputs": [
    {
     "data": {
      "text/plain": [
       "Out[140]: [[((0, 0), 5.0), ((0, 1), 6.0), ((1, 0), 15.0), ((1, 1), 18.0)],\n",
       " [((0, 0), 14.0), ((0, 1), 16.0), ((1, 0), 28.0), ((1, 1), 32.0)]]"
      ]
     },
     "metadata": {
      "application/vnd.databricks.v1+output": {
       "addedWidgets": {},
       "arguments": {},
       "data": "Out[140]: [[((0, 0), 5.0), ((0, 1), 6.0), ((1, 0), 15.0), ((1, 1), 18.0)],\n [((0, 0), 14.0), ((0, 1), 16.0), ((1, 0), 28.0), ((1, 1), 32.0)]]",
       "datasetInfos": [],
       "metadata": {},
       "removedWidgets": [],
       "type": "ansi"
      }
     },
     "output_type": "display_data"
    }
   ],
   "source": [
    "reducedResult.collect()"
   ]
  },
  {
   "cell_type": "markdown",
   "metadata": {
    "application/vnd.databricks.v1+cell": {
     "inputWidgets": {},
     "nuid": "c4c578b1-8941-437f-815a-755d76aafdcf",
     "showTitle": false,
     "title": ""
    }
   },
   "source": [
    "Now that we have the reduced result from the reducer for each key, we aggregate them into the `secondPhaseInput` variable."
   ]
  },
  {
   "cell_type": "code",
   "execution_count": 0,
   "metadata": {
    "application/vnd.databricks.v1+cell": {
     "inputWidgets": {},
     "nuid": "002d2d4a-6fa4-4a94-bb5c-e43a0dc6119c",
     "showTitle": false,
     "title": ""
    }
   },
   "outputs": [
    {
     "data": {
      "text/plain": [
       "Out[141]: [((0, 0), 5.0),\n",
       " ((0, 1), 6.0),\n",
       " ((1, 0), 15.0),\n",
       " ((1, 1), 18.0),\n",
       " ((0, 0), 14.0),\n",
       " ((0, 1), 16.0),\n",
       " ((1, 0), 28.0),\n",
       " ((1, 1), 32.0)]"
      ]
     },
     "metadata": {
      "application/vnd.databricks.v1+output": {
       "addedWidgets": {},
       "arguments": {},
       "data": "Out[141]: [((0, 0), 5.0),\n ((0, 1), 6.0),\n ((1, 0), 15.0),\n ((1, 1), 18.0),\n ((0, 0), 14.0),\n ((0, 1), 16.0),\n ((1, 0), 28.0),\n ((1, 1), 32.0)]",
       "datasetInfos": [],
       "metadata": {},
       "removedWidgets": [],
       "type": "ansi"
      }
     },
     "output_type": "display_data"
    }
   ],
   "source": [
    "secondPhaseInput.collect()"
   ]
  },
  {
   "cell_type": "markdown",
   "metadata": {
    "application/vnd.databricks.v1+cell": {
     "inputWidgets": {},
     "nuid": "17330cca-8493-43d7-ac20-6d4b2fadacd4",
     "showTitle": false,
     "title": ""
    }
   },
   "source": [
    "After this, we run the reducer for the second phase and store the result in the `finalResult` variable."
   ]
  },
  {
   "cell_type": "code",
   "execution_count": 0,
   "metadata": {
    "application/vnd.databricks.v1+cell": {
     "inputWidgets": {},
     "nuid": "6f6108c2-e72f-46b4-9d18-3f5be7d80c4c",
     "showTitle": false,
     "title": ""
    }
   },
   "outputs": [
    {
     "data": {
      "text/plain": [
       "((0, 0), 19.0)\n",
       "((0, 1), 22.0)\n",
       "((1, 0), 43.0)\n",
       "((1, 1), 50.0)\n"
      ]
     },
     "metadata": {
      "application/vnd.databricks.v1+output": {
       "addedWidgets": {},
       "arguments": {},
       "data": "((0, 0), 19.0)\n((0, 1), 22.0)\n((1, 0), 43.0)\n((1, 1), 50.0)\n",
       "datasetInfos": [],
       "metadata": {},
       "removedWidgets": [],
       "type": "ansi"
      }
     },
     "output_type": "display_data"
    }
   ],
   "source": [
    "results = finalResult.collect()\n",
    "for result in results:\n",
    "    print(result)"
   ]
  },
  {
   "cell_type": "markdown",
   "metadata": {
    "application/vnd.databricks.v1+cell": {
     "inputWidgets": {},
     "nuid": "c1671a99-31bd-46f4-a6fb-760a668f9a19",
     "showTitle": false,
     "title": ""
    }
   },
   "source": [
    "### Define the code in a function\n",
    "As we have seen how the code works, we can write it in a routine `DisplayMatrixMultiplication` to be used in further examples."
   ]
  },
  {
   "cell_type": "code",
   "execution_count": 0,
   "metadata": {
    "application/vnd.databricks.v1+cell": {
     "inputWidgets": {},
     "nuid": "82d76acb-c5be-42b9-ab03-dfef288d0327",
     "showTitle": false,
     "title": ""
    }
   },
   "outputs": [],
   "source": [
    "def DisplayMatrixMultiplication(file):\n",
    "    sc = SparkContext.getOrCreate()\n",
    "\n",
    "    data = sc.textFile(file)\n",
    "    lines = data.filter(lambda row: not row.startswith('#')).collect()\n",
    "\n",
    "    partitionIndex = lines.index('')\n",
    "    linesA = lines[:partitionIndex]\n",
    "    linesB = lines[partitionIndex+1:]\n",
    "\n",
    "    if CheckFloatStrings(linesA) or CheckFloatStrings(linesB):\n",
    "        print(\"File contains non-float characters\")\n",
    "    else:\n",
    "        allMappedResults = MapperA(linesA) + MapperB(linesB)\n",
    "        reducerInput = allMappedResults.groupByKey().mapValues(lambda x: list(x))\n",
    "        if CheckMatrixDimensions(reducerInput):\n",
    "            print(\"Matrix Dimensions Does not match\")\n",
    "        else:\n",
    "            reducedResult = reducer1(reducerInput)\n",
    "            secondPhaseInput = reducedResult.flatMap(lambda x: x)\n",
    "            finalResult = reducer2(secondPhaseInput).collect()\n",
    "            print(\"Result:\")\n",
    "            for result in finalResult:\n",
    "                print(result)"
   ]
  },
  {
   "cell_type": "markdown",
   "metadata": {
    "application/vnd.databricks.v1+cell": {
     "inputWidgets": {},
     "nuid": "7325a786-6c56-46be-8b7e-56086eb90a0a",
     "showTitle": false,
     "title": ""
    }
   },
   "source": [
    "### Example 2 - Input file consisting of strings in the matrix\n",
    "#### Printing the Input file"
   ]
  },
  {
   "cell_type": "code",
   "execution_count": 0,
   "metadata": {
    "application/vnd.databricks.v1+cell": {
     "inputWidgets": {},
     "nuid": "e668a69e-0f5b-4560-9e82-8167284c5627",
     "showTitle": false,
     "title": ""
    }
   },
   "outputs": [
    {
     "data": {
      "text/plain": [
       "1 2 3.0\n",
       "3 4\n",
       "\n",
       "5 b\n",
       "7 8\n",
       "\n"
      ]
     },
     "metadata": {
      "application/vnd.databricks.v1+output": {
       "addedWidgets": {},
       "arguments": {},
       "data": "1 2 3.0\n3 4\n\n5 b\n7 8\n\n",
       "datasetInfos": [],
       "metadata": {},
       "removedWidgets": [],
       "type": "ansi"
      }
     },
     "output_type": "display_data"
    }
   ],
   "source": [
    "dbutils.fs.cp(\"/FileStore/tables/set1.txt\", \"file:///tmp/set1.txt\")\n",
    "with open(\"/tmp/set1.txt\", \"r\") as file:\n",
    "    print (file.read())"
   ]
  },
  {
   "cell_type": "markdown",
   "metadata": {
    "application/vnd.databricks.v1+cell": {
     "inputWidgets": {},
     "nuid": "4825ffb1-3f62-4338-b767-f42c91a88d15",
     "showTitle": false,
     "title": ""
    }
   },
   "source": [
    "The input file consists of non-float characters in the matrices which displays the error message and exits from the program"
   ]
  },
  {
   "cell_type": "code",
   "execution_count": 0,
   "metadata": {
    "application/vnd.databricks.v1+cell": {
     "inputWidgets": {},
     "nuid": "ae528591-c6ee-4af4-bc19-dbf5820271d7",
     "showTitle": false,
     "title": ""
    }
   },
   "outputs": [
    {
     "data": {
      "text/plain": [
       "File contains non-float characters\n"
      ]
     },
     "metadata": {
      "application/vnd.databricks.v1+output": {
       "addedWidgets": {},
       "arguments": {},
       "data": "File contains non-float characters\n",
       "datasetInfos": [],
       "metadata": {},
       "removedWidgets": [],
       "type": "ansi"
      }
     },
     "output_type": "display_data"
    }
   ],
   "source": [
    "DisplayMatrixMultiplication(\"/FileStore/tables/set1.txt\")"
   ]
  },
  {
   "cell_type": "markdown",
   "metadata": {
    "application/vnd.databricks.v1+cell": {
     "inputWidgets": {},
     "nuid": "ac1284bf-d5b1-4895-ad2f-65917ac51948",
     "showTitle": false,
     "title": ""
    }
   },
   "source": [
    "### Example 3 - Input file with two 4x4 matrices \n",
    "#### Printing the Input file"
   ]
  },
  {
   "cell_type": "code",
   "execution_count": 0,
   "metadata": {
    "application/vnd.databricks.v1+cell": {
     "inputWidgets": {},
     "nuid": "40726882-c495-4d97-b649-4cfe527923ed",
     "showTitle": false,
     "title": ""
    }
   },
   "outputs": [
    {
     "data": {
      "text/plain": [
       "# matrix A\n",
       " 7.13 8.20198 15.0128976   123\n",
       "43.5  0.00386 39.8       94683.12\n",
       " 8    7\t      6\t\t     5.0\n",
       " 4    3\t      2\t\t     1.0\n",
       "\n",
       "# matrix B\n",
       "  1.0\t    2\t  3\t  4\n",
       "  5.0\t    6\t  7\t  8\n",
       "345\t   88.888 0.543\t  5.9204864\n",
       "  0.001 54321\t  0.00231 1.456\n",
       "\n"
      ]
     },
     "metadata": {
      "application/vnd.databricks.v1+output": {
       "addedWidgets": {},
       "arguments": {},
       "data": "# matrix A\n 7.13 8.20198 15.0128976   123\n43.5  0.00386 39.8       94683.12\n 8    7\t      6\t\t     5.0\n 4    3\t      2\t\t     1.0\n\n# matrix B\n  1.0\t    2\t  3\t  4\n  5.0\t    6\t  7\t  8\n345\t   88.888 0.543\t  5.9204864\n  0.001 54321\t  0.00231 1.456\n\n",
       "datasetInfos": [],
       "metadata": {},
       "removedWidgets": [],
       "type": "ansi"
      }
     },
     "output_type": "display_data"
    }
   ],
   "source": [
    "dbutils.fs.cp(\"/FileStore/tables/set3.txt\", \"file:///tmp/set3.txt\")\n",
    "with open(\"/tmp/set3.txt\", \"r\") as file:\n",
    "    print (file.read())"
   ]
  },
  {
   "cell_type": "code",
   "execution_count": 0,
   "metadata": {
    "application/vnd.databricks.v1+cell": {
     "inputWidgets": {},
     "nuid": "d3c0b162-c9e8-45ce-bf8d-5430f462e544",
     "showTitle": false,
     "title": ""
    }
   },
   "outputs": [
    {
     "data": {
      "text/plain": [
       "Result:\n",
       "((0, 0), 5227.712571999999)\n",
       "((0, 1), 6682880.938321869)\n",
       "((0, 2), 87.23999339680002)\n",
       "((0, 3), 362.10749606539264)\n",
       "((1, 0), 13869.202419999998)\n",
       "((1, 1), 5143285386.28556)\n",
       "((1, 2), 370.8564272)\n",
       "((1, 3), 138268.28895872)\n",
       "((2, 0), 2113.005)\n",
       "((2, 1), 272196.328)\n",
       "((2, 2), 76.26955)\n",
       "((2, 3), 130.80291839999998)\n",
       "((3, 0), 709.001)\n",
       "((3, 1), 54524.776)\n",
       "((3, 2), 34.08831)\n",
       "((3, 3), 53.296972800000006)\n"
      ]
     },
     "metadata": {
      "application/vnd.databricks.v1+output": {
       "addedWidgets": {},
       "arguments": {},
       "data": "Result:\n((0, 0), 5227.712571999999)\n((0, 1), 6682880.938321869)\n((0, 2), 87.23999339680002)\n((0, 3), 362.10749606539264)\n((1, 0), 13869.202419999998)\n((1, 1), 5143285386.28556)\n((1, 2), 370.8564272)\n((1, 3), 138268.28895872)\n((2, 0), 2113.005)\n((2, 1), 272196.328)\n((2, 2), 76.26955)\n((2, 3), 130.80291839999998)\n((3, 0), 709.001)\n((3, 1), 54524.776)\n((3, 2), 34.08831)\n((3, 3), 53.296972800000006)\n",
       "datasetInfos": [],
       "metadata": {},
       "removedWidgets": [],
       "type": "ansi"
      }
     },
     "output_type": "display_data"
    }
   ],
   "source": [
    "DisplayMatrixMultiplication(\"/FileStore/tables/set3.txt\")"
   ]
  },
  {
   "cell_type": "markdown",
   "metadata": {
    "application/vnd.databricks.v1+cell": {
     "inputWidgets": {},
     "nuid": "a85adde5-2773-4990-9a05-98fe3d3ad194",
     "showTitle": false,
     "title": ""
    }
   },
   "source": [
    "### Example 4 - Input file with two matrices of each 3x4 where column length of A does not match row length of B\n",
    "#### Printing the Input file"
   ]
  },
  {
   "cell_type": "code",
   "execution_count": 0,
   "metadata": {
    "application/vnd.databricks.v1+cell": {
     "inputWidgets": {},
     "nuid": "82c775a0-a3ed-4e95-acee-7cd51ff7cb0d",
     "showTitle": false,
     "title": ""
    }
   },
   "outputs": [
    {
     "data": {
      "text/plain": [
       "# matrix A\n",
       " 7.13 8.20198 15.0128976 21.16\n",
       "43.5  0.00386 39.8       17.97\n",
       " 8    7\t      6\t\t       4\n",
       " \n",
       "\n",
       "# matrix B\n",
       "  5.0\t    6\t  7\t  8\n",
       "345\t   88.888 0.543\t  5.9204864\n",
       "  0.001 54321\t  0.00231 1.456\n",
       "\n"
      ]
     },
     "metadata": {
      "application/vnd.databricks.v1+output": {
       "addedWidgets": {},
       "arguments": {},
       "data": "# matrix A\n 7.13 8.20198 15.0128976 21.16\n43.5  0.00386 39.8       17.97\n 8    7\t      6\t\t       4\n \n\n# matrix B\n  5.0\t    6\t  7\t  8\n345\t   88.888 0.543\t  5.9204864\n  0.001 54321\t  0.00231 1.456\n\n",
       "datasetInfos": [],
       "metadata": {},
       "removedWidgets": [],
       "type": "ansi"
      }
     },
     "output_type": "display_data"
    }
   ],
   "source": [
    "dbutils.fs.cp(\"/FileStore/tables/set5-3.txt\", \"file:///tmp/set5-2.txt\")\n",
    "with open(\"/tmp/set5-3.txt\", \"r\") as file:\n",
    "    print (file.read())"
   ]
  },
  {
   "cell_type": "code",
   "execution_count": 0,
   "metadata": {
    "application/vnd.databricks.v1+cell": {
     "inputWidgets": {},
     "nuid": "b873bf03-fc31-4996-b84f-77a97cfbe494",
     "showTitle": false,
     "title": ""
    }
   },
   "outputs": [
    {
     "data": {
      "text/plain": [
       "Matrix Dimensions Does not match\n"
      ]
     },
     "metadata": {
      "application/vnd.databricks.v1+output": {
       "addedWidgets": {},
       "arguments": {},
       "data": "Matrix Dimensions Does not match\n",
       "datasetInfos": [],
       "metadata": {},
       "removedWidgets": [],
       "type": "ansi"
      }
     },
     "output_type": "display_data"
    }
   ],
   "source": [
    "DisplayMatrixMultiplication(\"/FileStore/tables/set5-2.txt\")"
   ]
  },
  {
   "cell_type": "markdown",
   "metadata": {
    "application/vnd.databricks.v1+cell": {
     "inputWidgets": {},
     "nuid": "4fbf95d8-4699-4500-a5b0-3f63fd40c0a0",
     "showTitle": false,
     "title": ""
    }
   },
   "source": [
    "The input file consists of two matrices where the dimensions do not match for matrix multiplication which displays the error message and exits from the program"
   ]
  }
 ],
 "metadata": {
  "application/vnd.databricks.v1+notebook": {
   "dashboards": [],
   "language": "python",
   "notebookMetadata": {
    "pythonIndentUnit": 4
   },
   "notebookName": "Matrix_Multiplication_Assignment4_RaviKumar",
   "notebookOrigID": 2846392246043520,
   "widgets": {}
  },
  "kernelspec": {
   "display_name": "Python 3 (ipykernel)",
   "language": "python",
   "name": "python3"
  },
  "language_info": {
   "codemirror_mode": {
    "name": "ipython",
    "version": 3
   },
   "file_extension": ".py",
   "mimetype": "text/x-python",
   "name": "python",
   "nbconvert_exporter": "python",
   "pygments_lexer": "ipython3",
   "version": "3.9.7"
  }
 },
 "nbformat": 4,
 "nbformat_minor": 1
}
